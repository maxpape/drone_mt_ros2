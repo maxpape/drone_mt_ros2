{
 "cells": [
  {
   "cell_type": "code",
   "execution_count": 1,
   "metadata": {},
   "outputs": [],
   "source": [
    "import GPy\n",
    "import gp_estimator\n",
    "import numpy as np\n",
    "from pathos.multiprocessing import ProcessingPool as Pool\n",
    "import time"
   ]
  },
  {
   "cell_type": "code",
   "execution_count": 3,
   "metadata": {},
   "outputs": [],
   "source": [
    "x = np.array([[0.0055, 0.    , 2.0611, 2.1779, 2.049 , 2.1829],\n",
    " [0.0162, 0.0008, 2.404 , 2.4205, 2.3808, 2.438 ],\n",
    " [0.0293, 0.0023, 3.0397, 2.9771, 3.0244, 2.9875],\n",
    " [0.0504, 0.0048, 3.6016, 3.5267, 3.6161, 3.5082],\n",
    " [0.0793, 0.0088, 3.9944, 3.9703, 4.0511, 3.9107],\n",
    " [0.1071, 0.0141, 4.2249, 4.2913, 4.3218, 4.1928],\n",
    " [0.12  , 0.0201, 4.3301, 4.4981, 4.4512, 4.3768],])\n",
    "y = np.array([[ 0.0591],\n",
    " [ 0.0655],\n",
    " [ 0.0651],\n",
    " [ 0.0469],\n",
    " [ 0.0204],\n",
    " [-0.0319],\n",
    " [-0.0498],])\n",
    "x_new = np.array([[ 0.029 ,  0.0304,  2.0851,  2.1765,  2.0631,  2.1932],\n",
    " [ 0.0247,  0.0317,  2.3887,  2.3709,  2.3523,  2.4034],\n",
    " [ 0.0228,  0.0328,  2.9894,  2.8823,  2.9627,  2.9058],\n",
    " [ 0.0274,  0.0342,  3.5229,  3.4013,  3.5312,  3.3905],\n",
    " [ 0.0411,  0.0362,  3.8938,  3.831 ,  3.951 ,  3.7719],\n",
    " [ 0.057 ,  0.0391,  4.1085,  4.1521,  4.2117,  4.0479],\n",
    " [ 0.0608,  0.0421,  4.2044,  4.3692,  4.3341,  4.2392],\n",
    " [ 0.0373,  0.044 ,  4.2223,  4.4921,  4.3478,  4.3671],\n",
    " [-0.0236,  0.0428,  4.1963,  4.5302,  4.2815,  4.4455],\n",
    " [-0.1229,  0.0367,  4.1489,  4.4901,  4.1599,  4.4795],\n",
    " [-0.2518,  0.0241,  4.09  ,  4.3761,  4.001 ,  4.4654],\n",
    " [ 0.033 ,  0.0273,  2.0986,  2.2043,  2.0896,  2.2101],])"
   ]
  },
  {
   "cell_type": "code",
   "execution_count": 2,
   "metadata": {},
   "outputs": [],
   "source": [
    "x = np.array([[0.0055, 0.    ],\n",
    "              [0.0162, 0.0008],\n",
    "              [0.0293, 0.0023],\n",
    "              [0.0504, 0.0048],\n",
    "              [0.0793, 0.0088],\n",
    "              [0.1071, 0.0141],\n",
    "              [0.12  , 0.0201],])\n",
    "y = np.array([[ 0.0591],\n",
    " [ 0.0655],\n",
    " [ 0.0651],\n",
    " [ 0.0469],\n",
    " [ 0.0204],\n",
    " [-0.0319],\n",
    " [-0.0498],])\n",
    "x_new = np.array([[ 0.029 ,  0.0304],\n",
    "                  [ 0.0247,  0.0317],\n",
    "                  [ 0.0228,  0.0328],\n",
    "                  [ 0.0274,  0.0342],\n",
    "                  [ 0.0411,  0.0362],\n",
    "                  [ 0.057 ,  0.0391],\n",
    "                  [ 0.0608,  0.0421],\n",
    "                  [ 0.0373,  0.044 ],\n",
    "                  [-0.0236,  0.0428],\n",
    "                  [-0.1229,  0.0367],\n",
    "                  [-0.2518,  0.0241],\n",
    "                  [ 0.033 ,  0.0273],])"
   ]
  },
  {
   "cell_type": "code",
   "execution_count": 4,
   "metadata": {},
   "outputs": [],
   "source": [
    "GP = gp_estimator.GP_estimator()"
   ]
  },
  {
   "cell_type": "code",
   "execution_count": 5,
   "metadata": {},
   "outputs": [],
   "source": [
    "def predict_parallel(opt = True):\n",
    "    prediction_args =  [(x,y,x_new,0,opt),\n",
    "                        (x,y,x_new,1,opt),\n",
    "                        (x,y,x_new,2,opt),\n",
    "                        (x,y,x_new,3,opt),\n",
    "                        (x,y,x_new,4,opt),\n",
    "                        (x,y,x_new,5,opt)]\n",
    "                                    \n",
    "    f = lambda x: GP.predict_accel(*x)\n",
    "                    \n",
    "                \n",
    "    with Pool(processes=1) as pool:\n",
    "        result = pool.map(f, prediction_args)\n"
   ]
  },
  {
   "cell_type": "code",
   "execution_count": 6,
   "metadata": {},
   "outputs": [],
   "source": [
    "def predict_serial(opt = True):\n",
    "    mean, var = GP.predict_accel(x, y, x_new, 0, opt)\n",
    "    mean, var = GP.predict_accel(x, y, x_new, 1, opt)\n",
    "    mean, var = GP.predict_accel(x, y, x_new, 2, True)\n",
    "    mean, var = GP.predict_accel(x, y, x_new, 3, opt)\n",
    "    mean, var = GP.predict_accel(x, y, x_new, 4, opt)\n",
    "    mean, var = GP.predict_accel(x, y, x_new, 5, opt)"
   ]
  },
  {
   "cell_type": "code",
   "execution_count": 8,
   "metadata": {},
   "outputs": [
    {
     "name": "stdout",
     "output_type": "stream",
     "text": [
      "15.6 ms ± 1.45 ms per loop (mean ± std. dev. of 7 runs, 10 loops each)\n",
      "56.7 ms ± 5.96 ms per loop (mean ± std. dev. of 7 runs, 10 loops each)\n"
     ]
    }
   ],
   "source": [
    "%timeit predict_serial(False)\n",
    "%timeit predict_parallel(True)"
   ]
  },
  {
   "cell_type": "code",
   "execution_count": 9,
   "metadata": {},
   "outputs": [
    {
     "name": "stdout",
     "output_type": "stream",
     "text": [
      "6.12 ms ± 403 μs per loop (mean ± std. dev. of 7 runs, 100 loops each)\n"
     ]
    }
   ],
   "source": [
    "%timeit mean, var = GP.predict_accel(x, y, x_new, 0, True)\n"
   ]
  }
 ],
 "metadata": {
  "kernelspec": {
   "display_name": "Python 3",
   "language": "python",
   "name": "python3"
  },
  "language_info": {
   "codemirror_mode": {
    "name": "ipython",
    "version": 3
   },
   "file_extension": ".py",
   "mimetype": "text/x-python",
   "name": "python",
   "nbconvert_exporter": "python",
   "pygments_lexer": "ipython3",
   "version": "3.10.12"
  }
 },
 "nbformat": 4,
 "nbformat_minor": 2
}
